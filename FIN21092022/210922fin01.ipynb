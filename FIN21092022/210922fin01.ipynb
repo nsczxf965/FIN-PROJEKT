{
 "cells": [
  {
   "cell_type": "code",
   "execution_count": 10,
   "metadata": {},
   "outputs": [],
   "source": [
    "import yfinance as yf\n",
    "import pandas as pd\n",
    "import configparser\n",
    "import sqlalchemy"
   ]
  },
  {
   "cell_type": "code",
   "execution_count": 11,
   "metadata": {},
   "outputs": [],
   "source": [
    "msft = yf.Ticker(\"MSFT\")"
   ]
  },
  {
   "cell_type": "code",
   "execution_count": null,
   "metadata": {},
   "outputs": [],
   "source": [
    "msft.info"
   ]
  },
  {
   "cell_type": "code",
   "execution_count": null,
   "metadata": {},
   "outputs": [],
   "source": [
    "msft.info.keys()"
   ]
  },
  {
   "cell_type": "code",
   "execution_count": 14,
   "metadata": {},
   "outputs": [
    {
     "name": "stdout",
     "output_type": "stream",
     "text": [
      "MSFT\n",
      "Microsoft Corporation\n",
      "United States\n"
     ]
    }
   ],
   "source": [
    "print(msft.info[\"symbol\"])\n",
    "print(msft.info[\"longName\"])\n",
    "print(msft.info[\"country\"])"
   ]
  },
  {
   "cell_type": "code",
   "execution_count": 15,
   "metadata": {},
   "outputs": [],
   "source": [
    "config = configparser.ConfigParser()\n",
    "config.read(\"config.ini\")\n",
    "user = config[\"local_postgres\"][\"DB_USER\"]\n",
    "pw = config[\"local_postgres\"][\"DB_PW\"]\n",
    "address = config[\"local_postgres\"][\"DB_ADDRESS\"]\n",
    "port = config[\"local_postgres\"][\"DB_PORT\"]\n",
    "name = config[\"local_postgres\"][\"DB_NAME\"]\n",
    "\n",
    "con_str = f\"postgresql://{user}:{pw}@{address}:{port}/{name}\"\n",
    "con = sqlalchemy.create_engine(con_str)"
   ]
  },
  {
   "cell_type": "code",
   "execution_count": 16,
   "metadata": {},
   "outputs": [
    {
     "data": {
      "text/plain": [
       "<sqlalchemy.engine.cursor.LegacyCursorResult at 0x1ccb74d46d0>"
      ]
     },
     "execution_count": 16,
     "metadata": {},
     "output_type": "execute_result"
    }
   ],
   "source": [
    "query = \"\"\"insert into finance.symbols values \n",
    "    ('MSFT', 'Microsoft', 'United States');\"\"\"\n",
    "con.execute(query)"
   ]
  },
  {
   "cell_type": "code",
   "execution_count": null,
   "metadata": {},
   "outputs": [],
   "source": [
    "symbol = msft.info[\"symbol\"]\n",
    "name = msft.info[\"longName\"]\n",
    "country = msft.info[\"country\"]\n",
    "query = f\"\"\"insert into finance.symbols values \n",
    "    ('{symbol}', '{name}', '{country}');\"\"\"\n",
    "con.execute(query)"
   ]
  },
  {
   "cell_type": "code",
   "execution_count": 18,
   "metadata": {},
   "outputs": [],
   "source": [
    "def insert_symbol(con, ticker):\n",
    "    # Daten aus Ticker auslesen\n",
    "    symbol = ticker.info[\"symbol\"]\n",
    "    name = ticker.info[\"longName\"]\n",
    "    country = ticker.info[\"country\"]\n",
    "    # Daten in Datenbank schreiben\n",
    "    query = f\"\"\"insert into finance.symbols values \n",
    "        ('{symbol}', '{name}', '{country}');\"\"\"    \n",
    "    con.execute(query)\n",
    "\n",
    "t = yf.Ticker(\"AAPL\")\n",
    "insert_symbol(con, t)"
   ]
  },
  {
   "cell_type": "code",
   "execution_count": null,
   "metadata": {},
   "outputs": [],
   "source": [
    "insert_symbol(con, t)"
   ]
  },
  {
   "cell_type": "code",
   "execution_count": 20,
   "metadata": {},
   "outputs": [
    {
     "data": {
      "text/plain": [
       "True"
      ]
     },
     "execution_count": 20,
     "metadata": {},
     "output_type": "execute_result"
    }
   ],
   "source": [
    "symbol = 'MSFT'\n",
    "query = f\"\"\"select count(1) from finance.symbols \n",
    "                where symbol = '{symbol}';\"\"\"\n",
    "df = pd.read_sql(query,con)\n",
    "df.iloc[0,0] == 1"
   ]
  },
  {
   "cell_type": "code",
   "execution_count": 21,
   "metadata": {},
   "outputs": [],
   "source": [
    "def insert_symbol(con, ticker):\n",
    "    # Daten aus Ticker auslesen\n",
    "    symbol = ticker.info[\"symbol\"]\n",
    "    name = ticker.info[\"longName\"]\n",
    "    country = ticker.info[\"country\"]\n",
    "    # Prüfen, ob Symbol schon vorhanden\n",
    "    query = f\"\"\"select count(1) from finance.symbols \n",
    "                where symbol = '{symbol}';\"\"\"\n",
    "    df = pd.read_sql(query,con)\n",
    "    vorhanden = df.iloc[0,0] == 1\n",
    "    # Daten in Datenbank schreiben\n",
    "    if not vorhanden:\n",
    "        query = f\"\"\"insert into finance.symbols values \n",
    "            ('{symbol}', '{name}', '{country}');\"\"\"    \n",
    "        con.execute(query)\n",
    "    else:\n",
    "        print(\"Eintrag existiert schon\")"
   ]
  },
  {
   "cell_type": "code",
   "execution_count": 22,
   "metadata": {},
   "outputs": [
    {
     "name": "stdout",
     "output_type": "stream",
     "text": [
      "Eintrag existiert schon\n"
     ]
    }
   ],
   "source": [
    "t = yf.Ticker(\"AAPL\")\n",
    "insert_symbol(con, t)"
   ]
  },
  {
   "cell_type": "code",
   "execution_count": null,
   "metadata": {},
   "outputs": [],
   "source": []
  }
 ],
 "metadata": {
  "kernelspec": {
   "display_name": "Python 3.10.6 ('finance')",
   "language": "python",
   "name": "python3"
  },
  "language_info": {
   "codemirror_mode": {
    "name": "ipython",
    "version": 3
   },
   "file_extension": ".py",
   "mimetype": "text/x-python",
   "name": "python",
   "nbconvert_exporter": "python",
   "pygments_lexer": "ipython3",
   "version": "3.10.6"
  },
  "orig_nbformat": 4,
  "vscode": {
   "interpreter": {
    "hash": "b6a038b83fb4bea44df6656589b3eb5ba7eab26d41346b6a033c8d4bedf73f84"
   }
  }
 },
 "nbformat": 4,
 "nbformat_minor": 2
}
