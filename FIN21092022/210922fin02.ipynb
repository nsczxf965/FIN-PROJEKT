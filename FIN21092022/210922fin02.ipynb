{
 "cells": [
  {
   "cell_type": "code",
   "execution_count": 1,
   "metadata": {},
   "outputs": [],
   "source": [
    "import tools210922\n",
    "import yfinance as yf\n",
    "import pandas as pd"
   ]
  },
  {
   "cell_type": "code",
   "execution_count": 2,
   "metadata": {},
   "outputs": [],
   "source": [
    "con = tools210922.connect_postgres(\"azure_eltr\")"
   ]
  },
  {
   "cell_type": "code",
   "execution_count": 3,
   "metadata": {},
   "outputs": [
    {
     "name": "stdout",
     "output_type": "stream",
     "text": [
      "Eintrag existiert schon\n"
     ]
    }
   ],
   "source": [
    "t = yf.Ticker(\"AMZN\")\n",
    "tools210922.insert_symbol(con, t)"
   ]
  },
  {
   "cell_type": "code",
   "execution_count": 4,
   "metadata": {},
   "outputs": [
    {
     "data": {
      "text/html": [
       "<div>\n",
       "<style scoped>\n",
       "    .dataframe tbody tr th:only-of-type {\n",
       "        vertical-align: middle;\n",
       "    }\n",
       "\n",
       "    .dataframe tbody tr th {\n",
       "        vertical-align: top;\n",
       "    }\n",
       "\n",
       "    .dataframe thead th {\n",
       "        text-align: right;\n",
       "    }\n",
       "</style>\n",
       "<table border=\"1\" class=\"dataframe\">\n",
       "  <thead>\n",
       "    <tr style=\"text-align: right;\">\n",
       "      <th></th>\n",
       "      <th>Revenue</th>\n",
       "      <th>Earnings</th>\n",
       "    </tr>\n",
       "    <tr>\n",
       "      <th>Quarter</th>\n",
       "      <th></th>\n",
       "      <th></th>\n",
       "    </tr>\n",
       "  </thead>\n",
       "  <tbody>\n",
       "    <tr>\n",
       "      <th>3Q2021</th>\n",
       "      <td>110812000000</td>\n",
       "      <td>3156000000</td>\n",
       "    </tr>\n",
       "    <tr>\n",
       "      <th>4Q2021</th>\n",
       "      <td>137412000000</td>\n",
       "      <td>14323000000</td>\n",
       "    </tr>\n",
       "    <tr>\n",
       "      <th>1Q2022</th>\n",
       "      <td>116444000000</td>\n",
       "      <td>-3844000000</td>\n",
       "    </tr>\n",
       "    <tr>\n",
       "      <th>2Q2022</th>\n",
       "      <td>121234000000</td>\n",
       "      <td>-2028000000</td>\n",
       "    </tr>\n",
       "  </tbody>\n",
       "</table>\n",
       "</div>"
      ],
      "text/plain": [
       "              Revenue     Earnings\n",
       "Quarter                           \n",
       "3Q2021   110812000000   3156000000\n",
       "4Q2021   137412000000  14323000000\n",
       "1Q2022   116444000000  -3844000000\n",
       "2Q2022   121234000000  -2028000000"
      ]
     },
     "execution_count": 4,
     "metadata": {},
     "output_type": "execute_result"
    }
   ],
   "source": [
    "t.quarterly_earnings"
   ]
  },
  {
   "cell_type": "code",
   "execution_count": null,
   "metadata": {},
   "outputs": [],
   "source": [
    "# Tabelle aus Ticker holen\n",
    "df = t.quarterly_earnings\n",
    "# Umformen, damit passend zu SQL-Tabelle\n",
    "symbol = t.info[\"symbol\"]\n",
    "df[\"symbol\"] = symbol\n",
    "df[\"quarter\"] = df.index\n",
    "df[\"quarter\"] = df[\"quarter\"].str[2:] + \"Q\" + df[\"quarter\"].str[0]\n",
    "df = df.rename(columns={\"Revenue\":\"revenue\", \"Earnings\":\"earnings\"})\n",
    "df\n",
    "# in Datenbank hochladen\n",
    "df.to_sql(\"earnings_quarter\", con, \n",
    "    schema=\"finance\", if_exists=\"append\", index=False)"
   ]
  },
  {
   "cell_type": "code",
   "execution_count": 6,
   "metadata": {},
   "outputs": [],
   "source": [
    "def insert_earnings_quarter(con, ticker):\n",
    "    # Tabelle aus Ticker holen\n",
    "    df = ticker.quarterly_earnings\n",
    "    # Umformen, damit passend zu SQL-Tabelle\n",
    "    symbol = ticker.info[\"symbol\"]\n",
    "    df[\"symbol\"] = symbol\n",
    "    df[\"quarter\"] = df.index\n",
    "    df[\"quarter\"] = df[\"quarter\"].str[2:] + \"Q\" + df[\"quarter\"].str[0]\n",
    "    df = df.rename(columns={\"Revenue\":\"revenue\", \"Earnings\":\"earnings\"})\n",
    "    # in Datenbank hochladen\n",
    "    df.to_sql(\"earnings_quarter\", con, \n",
    "        schema=\"finance\", if_exists=\"append\", index=False)"
   ]
  },
  {
   "cell_type": "code",
   "execution_count": null,
   "metadata": {},
   "outputs": [],
   "source": [
    "pd.read_sql(\"select * from finance.earnings_quarter\",con)"
   ]
  },
  {
   "cell_type": "code",
   "execution_count": null,
   "metadata": {},
   "outputs": [],
   "source": []
  }
 ],
 "metadata": {
  "kernelspec": {
   "display_name": "Python 3.10.6 ('finance')",
   "language": "python",
   "name": "python3"
  },
  "language_info": {
   "codemirror_mode": {
    "name": "ipython",
    "version": 3
   },
   "file_extension": ".py",
   "mimetype": "text/x-python",
   "name": "python",
   "nbconvert_exporter": "python",
   "pygments_lexer": "ipython3",
   "version": "3.10.6"
  },
  "orig_nbformat": 4,
  "vscode": {
   "interpreter": {
    "hash": "b6a038b83fb4bea44df6656589b3eb5ba7eab26d41346b6a033c8d4bedf73f84"
   }
  }
 },
 "nbformat": 4,
 "nbformat_minor": 2
}
