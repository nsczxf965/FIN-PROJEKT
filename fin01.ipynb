{
 "cells": [
  {
   "cell_type": "code",
   "execution_count": 6,
   "metadata": {},
   "outputs": [],
   "source": [
    "import pandas as pd\n",
    "import yfinance as yf\n",
    "import configparser\n",
    "import sqlalchemy"
   ]
  },
  {
   "cell_type": "code",
   "execution_count": 7,
   "metadata": {},
   "outputs": [],
   "source": [
    "config = configparser.ConfigParser()\n",
    "config.read(\"config.ini\")\n",
    "user = config[\"local_postgres\"][\"DB_USER\"]\n",
    "pw = config[\"local_postgres\"][\"DB_PW\"]\n",
    "address = config[\"local_postgres\"][\"DB_ADDRESS\"]\n",
    "port = config[\"local_postgres\"][\"DB_PORT\"]\n",
    "name = config[\"local_postgres\"][\"DB_NAME\"]"
   ]
  },
  {
   "cell_type": "code",
   "execution_count": 8,
   "metadata": {},
   "outputs": [],
   "source": [
    "con_str = f\"postgresql://{user}:{pw}@{address}:{port}/{name}\"\n",
    "con = sqlalchemy.create_engine(con_str)"
   ]
  },
  {
   "cell_type": "code",
   "execution_count": 9,
   "metadata": {},
   "outputs": [
    {
     "data": {
      "text/plain": [
       "<sqlalchemy.engine.cursor.LegacyCursorResult at 0x2d633143580>"
      ]
     },
     "execution_count": 9,
     "metadata": {},
     "output_type": "execute_result"
    }
   ],
   "source": [
    "query = \"\"\"insert into finance.symbols values\n",
    "     ('MSFT', 'Microsoft', 'United States')\"\"\"\n",
    "con.execute(query, con)"
   ]
  },
  {
   "cell_type": "code",
   "execution_count": 14,
   "metadata": {},
   "outputs": [],
   "source": [
    "def insert_symbol(con, ticker):\n",
    "    # Daten aus Ticker auslesen\n",
    "    symbol = ticker.info[\"symbol\"]\n",
    "    name = ticker.info[\"longName\"]\n",
    "    country = ticker.info[\"country\"]\n",
    "    # Prüfen, ob Symbol schon vorhanden\n",
    "    query = f\"\"\"select count(1) from finance.symbols \n",
    "                where symbol = '{symbol}';\"\"\"\n",
    "    df = pd.read_sql(query,con)\n",
    "    vorhanden = df.iloc[0,0] == 1\n",
    "    # Daten in Datenbank schreiben\n",
    "    if not vorhanden:\n",
    "        query = f\"\"\"insert into finance.symbols values\n",
    "        ('{symbol}', '{name}', '{country}');\"\"\"    \n",
    "        con.execute(query)\n",
    "    else:\n",
    "        print(\"Eintrag existiert schon\")"
   ]
  },
  {
   "cell_type": "code",
   "execution_count": 13,
   "metadata": {},
   "outputs": [
    {
     "data": {
      "text/plain": [
       "<sqlalchemy.engine.cursor.LegacyCursorResult at 0x2d6348d5d50>"
      ]
     },
     "execution_count": 13,
     "metadata": {},
     "output_type": "execute_result"
    }
   ],
   "source": [
    "symbol = 'MSFT'\n",
    "query = f\"\"\"select count(1) from finance.symbols \n",
    "    where symbol = '{symbol}'\"\"\"\n",
    "df = pd.read_sql(query, con)\n",
    "con.execute(query)"
   ]
  },
  {
   "cell_type": "code",
   "execution_count": 15,
   "metadata": {},
   "outputs": [
    {
     "name": "stdout",
     "output_type": "stream",
     "text": [
      "Eintrag existiert schon\n"
     ]
    }
   ],
   "source": [
    "t = yf.Ticker(\"AAPL\")\n",
    "insert_symbol(con, t)"
   ]
  },
  {
   "cell_type": "code",
   "execution_count": null,
   "metadata": {},
   "outputs": [],
   "source": []
  }
 ],
 "metadata": {
  "kernelspec": {
   "display_name": "Python 3.10.6 ('finance')",
   "language": "python",
   "name": "python3"
  },
  "language_info": {
   "codemirror_mode": {
    "name": "ipython",
    "version": 3
   },
   "file_extension": ".py",
   "mimetype": "text/x-python",
   "name": "python",
   "nbconvert_exporter": "python",
   "pygments_lexer": "ipython3",
   "version": "3.10.6"
  },
  "orig_nbformat": 4,
  "vscode": {
   "interpreter": {
    "hash": "b6a038b83fb4bea44df6656589b3eb5ba7eab26d41346b6a033c8d4bedf73f84"
   }
  }
 },
 "nbformat": 4,
 "nbformat_minor": 2
}
