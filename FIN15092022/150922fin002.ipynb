{
 "cells": [
  {
   "cell_type": "code",
   "execution_count": 1,
   "metadata": {},
   "outputs": [],
   "source": [
    "import tools\n",
    "import yfinance as yf\n",
    "import pandas as pd"
   ]
  },
  {
   "cell_type": "code",
   "execution_count": 2,
   "metadata": {},
   "outputs": [],
   "source": [
    "con = tools.connect_postgres()"
   ]
  },
  {
   "cell_type": "code",
   "execution_count": 3,
   "metadata": {},
   "outputs": [
    {
     "name": "stdout",
     "output_type": "stream",
     "text": [
      "Eintrag existiert schon\n"
     ]
    }
   ],
   "source": [
    "t = yf.Ticker(\"AAPL\")\n",
    "tools.insert_symbol(con, t)"
   ]
  },
  {
   "cell_type": "code",
   "execution_count": 4,
   "metadata": {},
   "outputs": [
    {
     "data": {
      "text/html": [
       "<div>\n",
       "<style scoped>\n",
       "    .dataframe tbody tr th:only-of-type {\n",
       "        vertical-align: middle;\n",
       "    }\n",
       "\n",
       "    .dataframe tbody tr th {\n",
       "        vertical-align: top;\n",
       "    }\n",
       "\n",
       "    .dataframe thead th {\n",
       "        text-align: right;\n",
       "    }\n",
       "</style>\n",
       "<table border=\"1\" class=\"dataframe\">\n",
       "  <thead>\n",
       "    <tr style=\"text-align: right;\">\n",
       "      <th></th>\n",
       "      <th>Revenue</th>\n",
       "      <th>Earnings</th>\n",
       "    </tr>\n",
       "    <tr>\n",
       "      <th>Quarter</th>\n",
       "      <th></th>\n",
       "      <th></th>\n",
       "    </tr>\n",
       "  </thead>\n",
       "  <tbody>\n",
       "    <tr>\n",
       "      <th>3Q2021</th>\n",
       "      <td>83360000000</td>\n",
       "      <td>20551000000</td>\n",
       "    </tr>\n",
       "    <tr>\n",
       "      <th>4Q2021</th>\n",
       "      <td>123945000000</td>\n",
       "      <td>34630000000</td>\n",
       "    </tr>\n",
       "    <tr>\n",
       "      <th>1Q2022</th>\n",
       "      <td>97278000000</td>\n",
       "      <td>25010000000</td>\n",
       "    </tr>\n",
       "    <tr>\n",
       "      <th>2Q2022</th>\n",
       "      <td>82959000000</td>\n",
       "      <td>19442000000</td>\n",
       "    </tr>\n",
       "  </tbody>\n",
       "</table>\n",
       "</div>"
      ],
      "text/plain": [
       "              Revenue     Earnings\n",
       "Quarter                           \n",
       "3Q2021    83360000000  20551000000\n",
       "4Q2021   123945000000  34630000000\n",
       "1Q2022    97278000000  25010000000\n",
       "2Q2022    82959000000  19442000000"
      ]
     },
     "execution_count": 4,
     "metadata": {},
     "output_type": "execute_result"
    }
   ],
   "source": [
    "t.quarterly_earnings"
   ]
  },
  {
   "cell_type": "code",
   "execution_count": 22,
   "metadata": {},
   "outputs": [
    {
     "data": {
      "text/plain": [
       "4"
      ]
     },
     "execution_count": 22,
     "metadata": {},
     "output_type": "execute_result"
    }
   ],
   "source": [
    "# Tabelle aus Ticker holen\n",
    "df = t.quarterly_earnings\n",
    "# Umformen, damit passend zu SQL-Tabelle\n",
    "symbol = t.info[\"symbol\"]\n",
    "df[\"symbol\"] = symbol\n",
    "df[\"quarter\"] = df.index\n",
    "df[\"quarter\"] = df[\"quarter\"].str[2:] + \"Q\" + df[\"quarter\"].str[0]\n",
    "df = df.rename(columns={\"Revenue\":\"revenue\", \"Earnings\":\"earnings\"})\n",
    "# in Datenbank hochladen\n",
    "df.to_sql(\"earnings_quarter\", con, \n",
    "    schema=\"finance\", if_exists=\"append\", index=False)"
   ]
  },
  {
   "cell_type": "code",
   "execution_count": 14,
   "metadata": {},
   "outputs": [
    {
     "data": {
      "text/plain": [
       "Quarter\n",
       "3Q2021    2021Q3\n",
       "4Q2021    2021Q4\n",
       "1Q2022    2022Q1\n",
       "2Q2022    2022Q2\n",
       "Name: quarter, dtype: object"
      ]
     },
     "execution_count": 14,
     "metadata": {},
     "output_type": "execute_result"
    }
   ],
   "source": [
    "#df[\"quarter\"].str[2:]\n",
    "#df[\"quarter\"].str[0]\n",
    "df[\"quarter\"].str[2:] + \"Q\" + df[\"quarter\"].str[0]\n"
   ]
  },
  {
   "cell_type": "code",
   "execution_count": 25,
   "metadata": {},
   "outputs": [
    {
     "data": {
      "text/html": [
       "<div>\n",
       "<style scoped>\n",
       "    .dataframe tbody tr th:only-of-type {\n",
       "        vertical-align: middle;\n",
       "    }\n",
       "\n",
       "    .dataframe tbody tr th {\n",
       "        vertical-align: top;\n",
       "    }\n",
       "\n",
       "    .dataframe thead th {\n",
       "        text-align: right;\n",
       "    }\n",
       "</style>\n",
       "<table border=\"1\" class=\"dataframe\">\n",
       "  <thead>\n",
       "    <tr style=\"text-align: right;\">\n",
       "      <th></th>\n",
       "      <th>symbol</th>\n",
       "      <th>quarter</th>\n",
       "      <th>revenue</th>\n",
       "      <th>earnings</th>\n",
       "    </tr>\n",
       "  </thead>\n",
       "  <tbody>\n",
       "    <tr>\n",
       "      <th>0</th>\n",
       "      <td>AAPL</td>\n",
       "      <td>2021Q3</td>\n",
       "      <td>83360000000</td>\n",
       "      <td>20551000000</td>\n",
       "    </tr>\n",
       "    <tr>\n",
       "      <th>1</th>\n",
       "      <td>AAPL</td>\n",
       "      <td>2021Q4</td>\n",
       "      <td>123945000000</td>\n",
       "      <td>34630000000</td>\n",
       "    </tr>\n",
       "    <tr>\n",
       "      <th>2</th>\n",
       "      <td>AAPL</td>\n",
       "      <td>2022Q1</td>\n",
       "      <td>97278000000</td>\n",
       "      <td>25010000000</td>\n",
       "    </tr>\n",
       "    <tr>\n",
       "      <th>3</th>\n",
       "      <td>AAPL</td>\n",
       "      <td>2022Q2</td>\n",
       "      <td>82959000000</td>\n",
       "      <td>19442000000</td>\n",
       "    </tr>\n",
       "  </tbody>\n",
       "</table>\n",
       "</div>"
      ],
      "text/plain": [
       "  symbol quarter       revenue     earnings\n",
       "0   AAPL  2021Q3   83360000000  20551000000\n",
       "1   AAPL  2021Q4  123945000000  34630000000\n",
       "2   AAPL  2022Q1   97278000000  25010000000\n",
       "3   AAPL  2022Q2   82959000000  19442000000"
      ]
     },
     "execution_count": 25,
     "metadata": {},
     "output_type": "execute_result"
    }
   ],
   "source": [
    "pd.read_sql(\"select * from finance.earnings_quarter\",con)"
   ]
  },
  {
   "cell_type": "code",
   "execution_count": null,
   "metadata": {},
   "outputs": [],
   "source": []
  }
 ],
 "metadata": {
  "kernelspec": {
   "display_name": "Python 3.10.6 ('finance')",
   "language": "python",
   "name": "python3"
  },
  "language_info": {
   "codemirror_mode": {
    "name": "ipython",
    "version": 3
   },
   "file_extension": ".py",
   "mimetype": "text/x-python",
   "name": "python",
   "nbconvert_exporter": "python",
   "pygments_lexer": "ipython3",
   "version": "3.10.6"
  },
  "orig_nbformat": 4,
  "vscode": {
   "interpreter": {
    "hash": "b6a038b83fb4bea44df6656589b3eb5ba7eab26d41346b6a033c8d4bedf73f84"
   }
  }
 },
 "nbformat": 4,
 "nbformat_minor": 2
}
